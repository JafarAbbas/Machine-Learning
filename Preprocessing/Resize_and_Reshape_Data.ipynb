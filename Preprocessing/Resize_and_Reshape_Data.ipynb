{
 "cells": [
  {
   "cell_type": "code",
   "execution_count": 14,
   "metadata": {},
   "outputs": [],
   "source": [
    "#This notebook Explains use of numpy.resize and numpy.reshape functions and explains there usage\n",
    "import numpy as np"
   ]
  },
  {
   "cell_type": "code",
   "execution_count": 20,
   "metadata": {},
   "outputs": [
    {
     "data": {
      "text/plain": [
       "array([[0, 1, 5, 6],\n",
       "       [2, 3, 4, 3],\n",
       "       [5, 3, 4, 6]])"
      ]
     },
     "execution_count": 20,
     "metadata": {},
     "output_type": "execute_result"
    }
   ],
   "source": [
    "#Let's take an example array as below of shape(3,4)\n",
    "a=np.array([[0,1,5,6],[2,3,4,3],[5,3,4,6]])\n",
    "a"
   ]
  },
  {
   "cell_type": "code",
   "execution_count": 39,
   "metadata": {},
   "outputs": [
    {
     "name": "stdout",
     "output_type": "stream",
     "text": [
      "New Array of shape(10,10)\n",
      "\n",
      "[[0 1 5 6 2 3 4 3 5 3]\n",
      " [4 6 0 1 5 6 2 3 4 3]\n",
      " [5 3 4 6 0 1 5 6 2 3]\n",
      " [4 3 5 3 4 6 0 1 5 6]\n",
      " [2 3 4 3 5 3 4 6 0 1]\n",
      " [5 6 2 3 4 3 5 3 4 6]\n",
      " [0 1 5 6 2 3 4 3 5 3]\n",
      " [4 6 0 1 5 6 2 3 4 3]\n",
      " [5 3 4 6 0 1 5 6 2 3]\n",
      " [4 3 5 3 4 6 0 1 5 6]]\n",
      "\n",
      "New Array of shape(14,13)\n",
      "\n",
      "[[0 1 5 6 2 3 4 3 5 3 4 6 0]\n",
      " [1 5 6 2 3 4 3 5 3 4 6 0 1]\n",
      " [5 6 2 3 4 3 5 3 4 6 0 1 5]\n",
      " [6 2 3 4 3 5 3 4 6 0 1 5 6]\n",
      " [2 3 4 3 5 3 4 6 0 1 5 6 2]\n",
      " [3 4 3 5 3 4 6 0 1 5 6 2 3]\n",
      " [4 3 5 3 4 6 0 1 5 6 2 3 4]\n",
      " [3 5 3 4 6 0 1 5 6 0 1 5 6]\n",
      " [2 3 4 3 5 3 4 6 0 1 5 6 2]\n",
      " [3 4 3 5 3 4 6 0 1 5 6 2 3]\n",
      " [4 3 5 3 4 6 0 1 5 6 2 3 4]\n",
      " [3 5 3 4 6 0 1 5 6 2 3 4 3]\n",
      " [5 3 4 6 0 1 5 6 2 3 4 3 5]\n",
      " [3 4 6 0 1 5 6 2 3 4 3 5 3]]\n"
     ]
    }
   ],
   "source": [
    "#We can increase or decrease the size of this array using np.resize function.\n",
    "#This function is important because it may be required in processing datasets with arrays of diiferent lengths.\n",
    "#resize functions requires 2 arguments apart from optional one's.\n",
    "#First argument is the array to be resized and Second argument is the size of the new array required as output. \n",
    "a=np.resize(a,(10,10))\n",
    "print(\"New Array of shape(10,10)\\n\")\n",
    "print(a)\n",
    "#The output repeats the entries of the array to populate the new array\n",
    "print(\"\\nNew Array of shape(14,13)\\n\")\n",
    "print(np.resize(a,(14,13)))"
   ]
  },
  {
   "cell_type": "code",
   "execution_count": 41,
   "metadata": {},
   "outputs": [
    {
     "name": "stdout",
     "output_type": "stream",
     "text": [
      "(2, 50)\n",
      "\n",
      "Reshaped Array\n",
      "\n",
      "[[0 1 5 6 2 3 4 3 5 3 4 6 0 1 5 6 2 3 4 3 5 3 4 6 0 1 5 6 2 3 4 3 5 3 4 6\n",
      "  0 1 5 6 2 3 4 3 5 3 4 6 0 1]\n",
      " [5 6 2 3 4 3 5 3 4 6 0 1 5 6 2 3 4 3 5 3 4 6 0 1 5 6 2 3 4 3 5 3 4 6 0 1\n",
      "  5 6 2 3 4 3 5 3 4 6 0 1 5 6]]\n",
      "(2, 50)\n",
      "\n",
      "Reshaped Array\n",
      "\n",
      "[[0 1 5 6 2 3 4 3 5 3 4 6 0 1 5 6 2 3 4 3 5 3 4 6 0]\n",
      " [1 5 6 2 3 4 3 5 3 4 6 0 1 5 6 2 3 4 3 5 3 4 6 0 1]\n",
      " [5 6 2 3 4 3 5 3 4 6 0 1 5 6 2 3 4 3 5 3 4 6 0 1 5]\n",
      " [6 2 3 4 3 5 3 4 6 0 1 5 6 2 3 4 3 5 3 4 6 0 1 5 6]]\n",
      "(4, 25)\n"
     ]
    }
   ],
   "source": [
    "#The reshape function can be used to change the shape of the array.\n",
    "#It is useful in those situations where we need to reduce the dimension of an array for processing\n",
    "print(a.shape)\n",
    "a=np.reshape(a,(2,50))\n",
    "print(\"\\nReshaped Array\\n\")\n",
    "print(a)\n",
    "print(a.shape)\n",
    "a=np.reshape(a,(4,25))\n",
    "print(\"\\nReshaped Array\\n\")\n",
    "print(a)\n",
    "print(a.shape)"
   ]
  },
  {
   "cell_type": "code",
   "execution_count": null,
   "metadata": {},
   "outputs": [],
   "source": []
  }
 ],
 "metadata": {
  "kernelspec": {
   "display_name": "Python 3",
   "language": "python",
   "name": "python3"
  },
  "language_info": {
   "codemirror_mode": {
    "name": "ipython",
    "version": 3
   },
   "file_extension": ".py",
   "mimetype": "text/x-python",
   "name": "python",
   "nbconvert_exporter": "python",
   "pygments_lexer": "ipython3",
   "version": "3.6.5"
  }
 },
 "nbformat": 4,
 "nbformat_minor": 2
}
