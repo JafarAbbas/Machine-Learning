{
 "cells": [
  {
   "cell_type": "code",
   "execution_count": null,
   "metadata": {},
   "outputs": [],
   "source": [
    "#Importing Dataset from local directory\n",
    "import pandas as pd\n",
    "\n",
    "#Give the location of the file to be imported\n",
    "data = pd.read_csv('C:/datasets/train_h.csv')"
   ]
  },
  {
   "cell_type": "code",
   "execution_count": null,
   "metadata": {},
   "outputs": [],
   "source": [
    "#Importing Dataset from Google Drive\n",
    "import pandas as pd\n",
    "from google.colab import drive \n",
    "drive.mount('/content/gdrive')\n",
    "# A link and an input box will be given in the output.\n",
    "# Use that link and Sign in to your Google Account.\n",
    "#  Copy the authorization code and paste it in the input box provided in the output.\n",
    "data = pd.read_csv('/content/gdrive/My Drive/Dataset/Train.csv')\n",
    "#Paste the address of the data set like above\n",
    "#Format of address is as follows  ---->   /content/gdrive/*Drive Name*/*Folder | Folders Name*/*File Name*\n",
    "data.head() "
   ]
  },
  {
   "cell_type": "code",
   "execution_count": null,
   "metadata": {},
   "outputs": [],
   "source": [
    "#Importing from libraries like keras\n",
    "from keras.datasets import cifar10\n",
    "(trainX, trainY), (testX, testY) = cifar10.load_data()\n",
    "#trainX = Independent Data of dataset for Training\n",
    "#trainY = Dependent Data of dataset for Training\n",
    "#testX = Independent Data of dataset for Testing\n",
    "#testY = Dependent Data of dataset for Testing"
   ]
  }
 ],
 "metadata": {
  "language_info": {
   "codemirror_mode": {
    "name": "ipython",
    "version": 3
   },
   "file_extension": ".py",
   "mimetype": "text/x-python",
   "name": "python",
   "nbconvert_exporter": "python",
   "pygments_lexer": "ipython3",
   "version": 3
  },
  "orig_nbformat": 2
 },
 "nbformat": 4,
 "nbformat_minor": 2
}